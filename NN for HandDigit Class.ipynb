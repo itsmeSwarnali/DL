{
 "cells": [
  {
   "cell_type": "code",
   "execution_count": 1,
   "id": "6200d950-3325-41a6-938b-c3fe47a2b00c",
   "metadata": {},
   "outputs": [],
   "source": [
    "import tensorflow as tf\n",
    "from tensorflow import keras\n",
    "import matplotlib.pyplot as plt\n",
    "import numpy as np\n",
    "import seaborn as sns"
   ]
  },
  {
   "cell_type": "code",
   "execution_count": 2,
   "id": "cf74e5b6-6d4e-41d3-9075-39a7da30e104",
   "metadata": {},
   "outputs": [],
   "source": [
    "(X_train, y_train) , (X_test, y_test) = keras.datasets.mnist.load_data()"
   ]
  },
  {
   "cell_type": "code",
   "execution_count": 3,
   "id": "ee309180-1e86-4eac-ad34-70e91cd09bb2",
   "metadata": {},
   "outputs": [
    {
     "data": {
      "text/plain": [
       "60000"
      ]
     },
     "execution_count": 3,
     "metadata": {},
     "output_type": "execute_result"
    }
   ],
   "source": [
    "len(X_train)"
   ]
  },
  {
   "cell_type": "code",
   "execution_count": 4,
   "id": "5b21873c-7694-4c13-bf36-4d76d307ec8a",
   "metadata": {},
   "outputs": [
    {
     "data": {
      "text/plain": [
       "numpy.ndarray"
      ]
     },
     "execution_count": 4,
     "metadata": {},
     "output_type": "execute_result"
    }
   ],
   "source": [
    "type(X_train)"
   ]
  },
  {
   "cell_type": "code",
   "execution_count": 5,
   "id": "27cb03ad-6a67-4da7-95ee-e7d1881c474c",
   "metadata": {},
   "outputs": [
    {
     "data": {
      "text/plain": [
       "10000"
      ]
     },
     "execution_count": 5,
     "metadata": {},
     "output_type": "execute_result"
    }
   ],
   "source": [
    "len(X_test)"
   ]
  },
  {
   "cell_type": "code",
   "execution_count": 6,
   "id": "83ef8c7f-57c2-4a3d-9433-61fd5d723180",
   "metadata": {},
   "outputs": [
    {
     "data": {
      "text/plain": [
       "(60000, 28, 28)"
      ]
     },
     "execution_count": 6,
     "metadata": {},
     "output_type": "execute_result"
    }
   ],
   "source": [
    "X_train.shape"
   ]
  },
  {
   "cell_type": "code",
   "execution_count": 7,
   "id": "4210af38-d779-4156-be50-858e0aacf705",
   "metadata": {},
   "outputs": [
    {
     "data": {
      "text/plain": [
       "array([[  0,   0,   0,   0,   0,   0,   0,   0,   0,   0,   0,   0,   0,\n",
       "          0,   0,   0,   0,   0,   0,   0,   0,   0,   0,   0,   0,   0,\n",
       "          0,   0],\n",
       "       [  0,   0,   0,   0,   0,   0,   0,   0,   0,   0,   0,   0,   0,\n",
       "          0,   0,   0,   0,   0,   0,   0,   0,   0,   0,   0,   0,   0,\n",
       "          0,   0],\n",
       "       [  0,   0,   0,   0,   0,   0,   0,   0,   0,   0,   0,   0,   0,\n",
       "          0,   0,   0,   0,   0,   0,   0,   0,   0,   0,   0,   0,   0,\n",
       "          0,   0],\n",
       "       [  0,   0,   0,   0,   0,   0,   0,   0,   0,   0,   0,   0,   0,\n",
       "          0, 100, 254, 158,   0,   0,   0,   0,   0,   0,   0,   0,   0,\n",
       "          0,   0],\n",
       "       [  0,   0,   0,   0,   0,   0,   0,   0,   0,   0,   0,   0,   0,\n",
       "          0, 182, 253, 150,   0,   0,   0,   0,   0,   0,   0,   0,   0,\n",
       "          0,   0],\n",
       "       [  0,   0,   0,   0,   0,   0,   0,   0,   0,   0,   0,   0,   0,\n",
       "        123, 247, 253,  68,   0,   0,   0,   0,   0,   0,   0,   0,   0,\n",
       "          0,   0],\n",
       "       [  0,   0,   0,   0,   0,   0,   0,   0,   0,   0,   0,   0,  87,\n",
       "        247, 253, 147,   0,   0,   0,   0,   0,   0,   0,   0,   0,   0,\n",
       "          0,   0],\n",
       "       [  0,   0,   0,   0,   0,   0,   0,   0,   0,   0,   0,  23, 229,\n",
       "        253, 185,  14,   0,   0,   0,   0,   0,   0,   0,   0,   0,   0,\n",
       "          0,   0],\n",
       "       [  0,   0,   0,   0,   0,   0,   0,   0,   0,   0,   0, 141, 254,\n",
       "        254,  95,   0,   0,   0,   0,   0,   0,   0,   0,   0,   0,   0,\n",
       "          0,   0],\n",
       "       [  0,   0,   0,   0,   0,   0,   0,   0,   0,   0,  53, 254, 253,\n",
       "        141,   3,   0,   0,   0,   0,   0,   0,   0,   0,   0,   0,   0,\n",
       "          0,   0],\n",
       "       [  0,   0,   0,   0,   0,   0,   0,   0,   0,  13, 213, 254, 247,\n",
       "         54,   0,   0,   0,   0,   0,   0,   0,   0,   0,   0,   0,   0,\n",
       "          0,   0],\n",
       "       [  0,   0,   0,   0,   0,   0,   0,   0,   0,  40, 253, 254,  91,\n",
       "          0,   0,   0,   0,   0,   0,   0,   0,   0,   0,   0,   0,   0,\n",
       "          0,   0],\n",
       "       [  0,   0,   0,   0,   0,   0,   0,   0,   0, 115, 253, 231,  24,\n",
       "          0,   0,   0,   0,   0,   0,   0,   0,   0,   0,   0,   0,   0,\n",
       "          0,   0],\n",
       "       [  0,   0,   0,   0,   0,   0,   0,   0,   0, 137, 254, 135,   0,\n",
       "          0,   0,   0,   0,   0,   0,   0,   0,   0,   0,   0,   0,   0,\n",
       "          0,   0],\n",
       "       [  0,   0,   0,   0,   0,   0,   0,   0,   0, 136, 253,  98,   0,\n",
       "          0,   0,   0,   0,  17,  88, 132, 214, 155,  63,   0,   0,   0,\n",
       "          0,   0],\n",
       "       [  0,   0,   0,   0,   0,   0,   0,   0,   0, 136, 253, 165,   0,\n",
       "          0,   0,   0, 102, 241, 253, 253, 253, 254, 135,   0,   0,   0,\n",
       "          0,   0],\n",
       "       [  0,   0,   0,   0,   0,   0,   0,   0,   0,  84, 253, 249,  66,\n",
       "          0,  37, 174, 254, 250, 146,  41, 221, 254, 135,   0,   0,   0,\n",
       "          0,   0],\n",
       "       [  0,   0,   0,   0,   0,   0,   0,   0,   0,   9, 170, 254, 248,\n",
       "        128, 181, 253, 254, 233,  31, 188, 239, 193,  46,   0,   0,   0,\n",
       "          0,   0],\n",
       "       [  0,   0,   0,   0,   0,   0,   0,   0,   0,   0,   0, 172, 254,\n",
       "        254, 254, 254, 255, 254, 254, 254, 171,  38,   0,   0,   0,   0,\n",
       "          0,   0],\n",
       "       [  0,   0,   0,   0,   0,   0,   0,   0,   0,   0,   0,  44, 238,\n",
       "        253, 253, 253, 254, 253, 239, 128,   9,   0,   0,   0,   0,   0,\n",
       "          0,   0],\n",
       "       [  0,   0,   0,   0,   0,   0,   0,   0,   0,   0,   0, 156, 253,\n",
       "        253, 210, 174, 175, 129,  24,   0,   0,   0,   0,   0,   0,   0,\n",
       "          0,   0],\n",
       "       [  0,   0,   0,   0,   0,   0,   0,   0,   0,   0,   0, 141, 253,\n",
       "        195,  16,   0,   0,   0,   0,   0,   0,   0,   0,   0,   0,   0,\n",
       "          0,   0],\n",
       "       [  0,   0,   0,   0,   0,   0,   0,   0,   0,   0,   0,  36, 238,\n",
       "        182,   8,   0,   0,   0,   0,   0,   0,   0,   0,   0,   0,   0,\n",
       "          0,   0],\n",
       "       [  0,   0,   0,   0,   0,   0,   0,   0,   0,   0,   0,   0,   0,\n",
       "          0,   0,   0,   0,   0,   0,   0,   0,   0,   0,   0,   0,   0,\n",
       "          0,   0],\n",
       "       [  0,   0,   0,   0,   0,   0,   0,   0,   0,   0,   0,   0,   0,\n",
       "          0,   0,   0,   0,   0,   0,   0,   0,   0,   0,   0,   0,   0,\n",
       "          0,   0],\n",
       "       [  0,   0,   0,   0,   0,   0,   0,   0,   0,   0,   0,   0,   0,\n",
       "          0,   0,   0,   0,   0,   0,   0,   0,   0,   0,   0,   0,   0,\n",
       "          0,   0],\n",
       "       [  0,   0,   0,   0,   0,   0,   0,   0,   0,   0,   0,   0,   0,\n",
       "          0,   0,   0,   0,   0,   0,   0,   0,   0,   0,   0,   0,   0,\n",
       "          0,   0],\n",
       "       [  0,   0,   0,   0,   0,   0,   0,   0,   0,   0,   0,   0,   0,\n",
       "          0,   0,   0,   0,   0,   0,   0,   0,   0,   0,   0,   0,   0,\n",
       "          0,   0]], dtype=uint8)"
      ]
     },
     "execution_count": 7,
     "metadata": {},
     "output_type": "execute_result"
    }
   ],
   "source": [
    "X_train[59000]"
   ]
  },
  {
   "cell_type": "code",
   "execution_count": 8,
   "id": "afd06024-0a58-4e56-b322-c0dba704df5e",
   "metadata": {},
   "outputs": [
    {
     "data": {
      "text/plain": [
       "<matplotlib.image.AxesImage at 0x242a6507130>"
      ]
     },
     "execution_count": 8,
     "metadata": {},
     "output_type": "execute_result"
    },
    {
     "data": {
      "image/png": "[encoded data removed]",
      "text/plain": [
       "<Figure size 288x288 with 1 Axes>"
      ]
     },
     "metadata": {
      "needs_background": "light"
     },
     "output_type": "display_data"
    }
   ],
   "source": [
    "plt.matshow(X_train[3])"
   ]
  },
  {
   "cell_type": "code",
   "execution_count": 9,
   "id": "2ef2a121-66a6-45c1-b7bc-61e706e59a23",
   "metadata": {},
   "outputs": [
    {
     "data": {
      "text/plain": [
       "2"
      ]
     },
     "execution_count": 9,
     "metadata": {},
     "output_type": "execute_result"
    }
   ],
   "source": [
    "y_train[5]"
   ]
  },
  {
   "cell_type": "code",
   "execution_count": 10,
   "id": "921fe5d7-b4a8-455c-ab91-dfa9655b93fc",
   "metadata": {},
   "outputs": [
    {
     "data": {
      "text/plain": [
       "array([5, 0, 4, 1, 9, 2, 1, 3, 1], dtype=uint8)"
      ]
     },
     "execution_count": 10,
     "metadata": {},
     "output_type": "execute_result"
    }
   ],
   "source": [
    "y_train[:9]"
   ]
  },
  {
   "cell_type": "markdown",
   "id": "f6a318c9-d4f4-4138-935c-adbe65bd7e6e",
   "metadata": {},
   "source": [
    "**Scaling**"
   ]
  },
  {
   "cell_type": "code",
   "execution_count": 11,
   "id": "c2b94158-dcfb-4d36-a453-f07ab160b6fc",
   "metadata": {},
   "outputs": [],
   "source": [
    "X_train = X_train / 255\n",
    "X_test = X_test / 255"
   ]
  },
  {
   "cell_type": "code",
   "execution_count": 12,
   "id": "54a8a31b-00a9-460a-ac17-589825060534",
   "metadata": {},
   "outputs": [
    {
     "data": {
      "text/plain": [
       "array([[0.        , 0.        , 0.        , 0.        , 0.        ,\n",
       "        0.        , 0.        , 0.        , 0.        , 0.        ,\n",
       "        0.        , 0.        , 0.        , 0.        , 0.        ,\n",
       "        0.        , 0.        , 0.        , 0.        , 0.        ,\n",
       "        0.        , 0.        , 0.        , 0.        , 0.        ,\n",
       "        0.        , 0.        , 0.        ],\n",
       "       [0.        , 0.        , 0.        , 0.        , 0.        ,\n",
       "        0.        , 0.        , 0.        , 0.        , 0.        ,\n",
       "        0.        , 0.        , 0.        , 0.        , 0.        ,\n",
       "        0.        , 0.        , 0.        , 0.        , 0.        ,\n",
       "        0.        , 0.        , 0.        , 0.        , 0.        ,\n",
       "        0.        , 0.        , 0.        ],\n",
       "       [0.        , 0.        , 0.        , 0.        , 0.        ,\n",
       "        0.        , 0.        , 0.        , 0.        , 0.        ,\n",
       "        0.        , 0.        , 0.        , 0.        , 0.        ,\n",
       "        0.        , 0.        , 0.        , 0.        , 0.        ,\n",
       "        0.        , 0.        , 0.        , 0.        , 0.        ,\n",
       "        0.        , 0.        , 0.        ],\n",
       "       [0.        , 0.        , 0.        , 0.        , 0.        ,\n",
       "        0.        , 0.        , 0.        , 0.        , 0.        ,\n",
       "        0.        , 0.        , 0.        , 0.        , 0.        ,\n",
       "        0.        , 0.        , 0.        , 0.        , 0.        ,\n",
       "        0.        , 0.        , 0.        , 0.        , 0.        ,\n",
       "        0.        , 0.        , 0.        ],\n",
       "       [0.        , 0.        , 0.        , 0.        , 0.        ,\n",
       "        0.        , 0.        , 0.        , 0.        , 0.        ,\n",
       "        0.        , 0.        , 0.        , 0.        , 0.        ,\n",
       "        0.        , 0.        , 0.        , 0.        , 0.        ,\n",
       "        0.        , 0.        , 0.        , 0.        , 0.        ,\n",
       "        0.        , 0.        , 0.        ],\n",
       "       [0.        , 0.        , 0.        , 0.        , 0.        ,\n",
       "        0.        , 0.        , 0.        , 0.        , 0.        ,\n",
       "        0.        , 0.        , 0.        , 0.        , 0.        ,\n",
       "        0.05098039, 0.09803922, 0.39215686, 0.47843137, 0.02745098,\n",
       "        0.        , 0.        , 0.        , 0.        , 0.        ,\n",
       "        0.        , 0.        , 0.        ],\n",
       "       [0.        , 0.        , 0.        , 0.        , 0.        ,\n",
       "        0.        , 0.        , 0.        , 0.        , 0.        ,\n",
       "        0.        , 0.        , 0.        , 0.12941176, 0.59215686,\n",
       "        0.81568627, 0.98823529, 0.98823529, 0.98823529, 0.57254902,\n",
       "        0.        , 0.        , 0.        , 0.        , 0.        ,\n",
       "        0.        , 0.        , 0.        ],\n",
       "       [0.        , 0.        , 0.        , 0.        , 0.        ,\n",
       "        0.        , 0.        , 0.        , 0.        , 0.        ,\n",
       "        0.        , 0.15686275, 0.59607843, 0.95686275, 0.98823529,\n",
       "        0.99215686, 0.87843137, 0.82745098, 0.98823529, 0.90980392,\n",
       "        0.15686275, 0.        , 0.        , 0.        , 0.        ,\n",
       "        0.        , 0.        , 0.        ],\n",
       "       [0.        , 0.        , 0.        , 0.        , 0.        ,\n",
       "        0.        , 0.        , 0.        , 0.        , 0.05882353,\n",
       "        0.59607843, 0.9372549 , 0.98823529, 0.98823529, 0.98823529,\n",
       "        0.84705882, 0.12156863, 0.14509804, 0.98823529, 0.98823529,\n",
       "        0.23529412, 0.        , 0.        , 0.        , 0.        ,\n",
       "        0.        , 0.        , 0.        ],\n",
       "       [0.        , 0.        , 0.        , 0.        , 0.        ,\n",
       "        0.        , 0.        , 0.        , 0.        , 0.37647059,\n",
       "        0.98823529, 0.98823529, 0.98823529, 0.98823529, 0.85098039,\n",
       "        0.11372549, 0.        , 0.14509804, 0.98823529, 0.98823529,\n",
       "        0.23529412, 0.        , 0.        , 0.        , 0.        ,\n",
       "        0.        , 0.        , 0.        ],\n",
       "       [0.        , 0.        , 0.        , 0.        , 0.        ,\n",
       "        0.        , 0.        , 0.        , 0.        , 0.70980392,\n",
       "        0.98823529, 0.98823529, 0.8627451 , 0.65490196, 0.11764706,\n",
       "        0.        , 0.        , 0.30196078, 0.98823529, 0.98823529,\n",
       "        0.23529412, 0.        , 0.        , 0.        , 0.        ,\n",
       "        0.        , 0.        , 0.        ],\n",
       "       [0.        , 0.        , 0.        , 0.        , 0.        ,\n",
       "        0.        , 0.        , 0.        , 0.        , 0.10196078,\n",
       "        0.50196078, 0.22745098, 0.08627451, 0.        , 0.        ,\n",
       "        0.        , 0.        , 0.39215686, 0.98823529, 0.98823529,\n",
       "        0.23529412, 0.        , 0.        , 0.        , 0.        ,\n",
       "        0.        , 0.        , 0.        ],\n",
       "       [0.        , 0.        , 0.        , 0.        , 0.        ,\n",
       "        0.        , 0.        , 0.        , 0.        , 0.        ,\n",
       "        0.        , 0.        , 0.        , 0.        , 0.        ,\n",
       "        0.        , 0.        , 0.61568627, 0.98823529, 0.98823529,\n",
       "        0.23529412, 0.        , 0.        , 0.        , 0.        ,\n",
       "        0.        , 0.        , 0.        ],\n",
       "       [0.        , 0.        , 0.        , 0.        , 0.        ,\n",
       "        0.        , 0.        , 0.        , 0.        , 0.        ,\n",
       "        0.        , 0.        , 0.        , 0.43137255, 0.4745098 ,\n",
       "        0.47843137, 0.4745098 , 0.79215686, 0.98823529, 0.76078431,\n",
       "        0.01176471, 0.        , 0.        , 0.        , 0.        ,\n",
       "        0.        , 0.        , 0.        ],\n",
       "       [0.        , 0.        , 0.        , 0.        , 0.        ,\n",
       "        0.        , 0.        , 0.        , 0.        , 0.        ,\n",
       "        0.03921569, 0.20784314, 0.70196078, 0.99215686, 0.99215686,\n",
       "        1.        , 0.99215686, 0.99215686, 0.89411765, 0.1372549 ,\n",
       "        0.        , 0.        , 0.        , 0.        , 0.        ,\n",
       "        0.        , 0.        , 0.        ],\n",
       "       [0.        , 0.        , 0.        , 0.        , 0.        ,\n",
       "        0.        , 0.        , 0.        , 0.01960784, 0.21176471,\n",
       "        0.89019608, 0.98823529, 0.95294118, 0.89411765, 0.66666667,\n",
       "        0.94901961, 0.98823529, 0.98823529, 0.90588235, 0.45882353,\n",
       "        0.02352941, 0.        , 0.        , 0.        , 0.        ,\n",
       "        0.        , 0.        , 0.        ],\n",
       "       [0.        , 0.        , 0.        , 0.        , 0.        ,\n",
       "        0.        , 0.        , 0.02352941, 0.30588235, 0.98823529,\n",
       "        0.98823529, 0.49019608, 0.23137255, 0.        , 0.07058824,\n",
       "        0.81568627, 0.98823529, 0.98823529, 0.98823529, 0.98823529,\n",
       "        0.34117647, 0.02745098, 0.        , 0.        , 0.        ,\n",
       "        0.        , 0.        , 0.        ],\n",
       "       [0.        , 0.        , 0.        , 0.        , 0.        ,\n",
       "        0.        , 0.01960784, 0.52941176, 0.98823529, 0.98823529,\n",
       "        0.70588235, 0.0627451 , 0.        , 0.08235294, 0.79607843,\n",
       "        0.99215686, 0.96862745, 0.50588235, 0.67843137, 0.98823529,\n",
       "        0.98823529, 0.72156863, 0.25882353, 0.19215686, 0.19215686,\n",
       "        0.        , 0.        , 0.        ],\n",
       "       [0.        , 0.        , 0.        , 0.        , 0.        ,\n",
       "        0.01176471, 0.53333333, 0.98823529, 0.94509804, 0.41568627,\n",
       "        0.06666667, 0.        , 0.20784314, 0.78431373, 0.98823529,\n",
       "        0.84705882, 0.25490196, 0.        , 0.05490196, 0.28235294,\n",
       "        0.63921569, 0.94509804, 0.98823529, 0.98823529, 0.8745098 ,\n",
       "        0.        , 0.        , 0.        ],\n",
       "       [0.        , 0.        , 0.        , 0.        , 0.        ,\n",
       "        0.41176471, 0.98823529, 0.94901961, 0.34509804, 0.07058824,\n",
       "        0.28627451, 0.66666667, 0.95686275, 0.98823529, 0.49411765,\n",
       "        0.11372549, 0.        , 0.        , 0.        , 0.        ,\n",
       "        0.        , 0.34901961, 0.70588235, 0.70588235, 0.14509804,\n",
       "        0.        , 0.        , 0.        ],\n",
       "       [0.        , 0.        , 0.        , 0.        , 0.        ,\n",
       "        0.90588235, 0.98823529, 0.96078431, 0.80392157, 0.84705882,\n",
       "        0.98823529, 0.98823529, 0.98823529, 0.48627451, 0.01176471,\n",
       "        0.        , 0.        , 0.        , 0.        , 0.        ,\n",
       "        0.        , 0.        , 0.        , 0.        , 0.        ,\n",
       "        0.        , 0.        , 0.        ],\n",
       "       [0.        , 0.        , 0.        , 0.        , 0.        ,\n",
       "        0.81176471, 0.98823529, 0.98823529, 0.98823529, 0.98823529,\n",
       "        0.69803922, 0.45490196, 0.14117647, 0.01568627, 0.        ,\n",
       "        0.        , 0.        , 0.        , 0.        , 0.        ,\n",
       "        0.        , 0.        , 0.        , 0.        , 0.        ,\n",
       "        0.        , 0.        , 0.        ],\n",
       "       [0.        , 0.        , 0.        , 0.        , 0.        ,\n",
       "        0.05098039, 0.36470588, 0.56078431, 0.4745098 , 0.09019608,\n",
       "        0.02352941, 0.        , 0.        , 0.        , 0.        ,\n",
       "        0.        , 0.        , 0.        , 0.        , 0.        ,\n",
       "        0.        , 0.        , 0.        , 0.        , 0.        ,\n",
       "        0.        , 0.        , 0.        ],\n",
       "       [0.        , 0.        , 0.        , 0.        , 0.        ,\n",
       "        0.        , 0.        , 0.        , 0.        , 0.        ,\n",
       "        0.        , 0.        , 0.        , 0.        , 0.        ,\n",
       "        0.        , 0.        , 0.        , 0.        , 0.        ,\n",
       "        0.        , 0.        , 0.        , 0.        , 0.        ,\n",
       "        0.        , 0.        , 0.        ],\n",
       "       [0.        , 0.        , 0.        , 0.        , 0.        ,\n",
       "        0.        , 0.        , 0.        , 0.        , 0.        ,\n",
       "        0.        , 0.        , 0.        , 0.        , 0.        ,\n",
       "        0.        , 0.        , 0.        , 0.        , 0.        ,\n",
       "        0.        , 0.        , 0.        , 0.        , 0.        ,\n",
       "        0.        , 0.        , 0.        ],\n",
       "       [0.        , 0.        , 0.        , 0.        , 0.        ,\n",
       "        0.        , 0.        , 0.        , 0.        , 0.        ,\n",
       "        0.        , 0.        , 0.        , 0.        , 0.        ,\n",
       "        0.        , 0.        , 0.        , 0.        , 0.        ,\n",
       "        0.        , 0.        , 0.        , 0.        , 0.        ,\n",
       "        0.        , 0.        , 0.        ],\n",
       "       [0.        , 0.        , 0.        , 0.        , 0.        ,\n",
       "        0.        , 0.        , 0.        , 0.        , 0.        ,\n",
       "        0.        , 0.        , 0.        , 0.        , 0.        ,\n",
       "        0.        , 0.        , 0.        , 0.        , 0.        ,\n",
       "        0.        , 0.        , 0.        , 0.        , 0.        ,\n",
       "        0.        , 0.        , 0.        ],\n",
       "       [0.        , 0.        , 0.        , 0.        , 0.        ,\n",
       "        0.        , 0.        , 0.        , 0.        , 0.        ,\n",
       "        0.        , 0.        , 0.        , 0.        , 0.        ,\n",
       "        0.        , 0.        , 0.        , 0.        , 0.        ,\n",
       "        0.        , 0.        , 0.        , 0.        , 0.        ,\n",
       "        0.        , 0.        , 0.        ]])"
      ]
     },
     "execution_count": 12,
     "metadata": {},
     "output_type": "execute_result"
    }
   ],
   "source": [
    "X_train[5]"
   ]
  },
  {
   "cell_type": "code",
   "execution_count": 13,
   "id": "2fc63196-6a79-45b3-a80b-34cdad89638e",
   "metadata": {},
   "outputs": [],
   "source": [
    "x_train_flattened = X_train.reshape(len(X_train),28*28) #Creating single dimentional array for each digit\n",
    "x_test_flattened = X_test.reshape(len(X_test),28*28) #Creating single dimentional array for each digit"
   ]
  },
  {
   "cell_type": "code",
   "execution_count": 14,
   "id": "8cd04557-88c6-4760-aa6f-5d522fcaeef0",
   "metadata": {},
   "outputs": [
    {
     "data": {
      "text/plain": [
       "(60000, 784)"
      ]
     },
     "execution_count": 14,
     "metadata": {},
     "output_type": "execute_result"
    }
   ],
   "source": [
    "x_train_flattened.shape"
   ]
  },
  {
   "cell_type": "code",
   "execution_count": 15,
   "id": "543dbb7d-34a3-4d49-9dc0-b5cebb6d27ee",
   "metadata": {
    "tags": []
   },
   "outputs": [
    {
     "data": {
      "text/plain": [
       "array([0.        , 0.        , 0.        , 0.        , 0.        ,\n",
       "       0.        , 0.        , 0.        , 0.        , 0.        ,\n",
       "       0.        , 0.        , 0.        , 0.        , 0.        ,\n",
       "       0.        , 0.        , 0.        , 0.        , 0.        ,\n",
       "       0.        , 0.        , 0.        , 0.        , 0.        ,\n",
       "       0.        , 0.        , 0.        , 0.        , 0.        ,\n",
       "       0.        , 0.        , 0.        , 0.        , 0.        ,\n",
       "       0.        , 0.        , 0.        , 0.        , 0.        ,\n",
       "       0.        , 0.        , 0.        , 0.        , 0.        ,\n",
       "       0.        , 0.        , 0.        , 0.        , 0.        ,\n",
       "       0.        , 0.        , 0.        , 0.        , 0.        ,\n",
       "       0.        , 0.        , 0.        , 0.        , 0.        ,\n",
       "       0.        , 0.        , 0.        , 0.        , 0.        ,\n",
       "       0.        , 0.        , 0.        , 0.        , 0.        ,\n",
       "       0.        , 0.        , 0.        , 0.        , 0.        ,\n",
       "       0.        , 0.        , 0.        , 0.        , 0.        ,\n",
       "       0.        , 0.        , 0.        , 0.        , 0.        ,\n",
       "       0.        , 0.        , 0.        , 0.        , 0.        ,\n",
       "       0.        , 0.        , 0.        , 0.        , 0.        ,\n",
       "       0.        , 0.        , 0.        , 0.        , 0.        ,\n",
       "       0.        , 0.        , 0.        , 0.        , 0.        ,\n",
       "       0.        , 0.        , 0.        , 0.        , 0.        ,\n",
       "       0.        , 0.        , 0.        , 0.        , 0.        ,\n",
       "       0.        , 0.        , 0.        , 0.        , 0.        ,\n",
       "       0.        , 0.        , 0.        , 0.        , 0.        ,\n",
       "       0.        , 0.        , 0.2       , 0.62352941, 0.99215686,\n",
       "       0.62352941, 0.19607843, 0.        , 0.        , 0.        ,\n",
       "       0.        , 0.        , 0.        , 0.        , 0.        ,\n",
       "       0.        , 0.        , 0.        , 0.        , 0.        ,\n",
       "       0.        , 0.        , 0.        , 0.        , 0.        ,\n",
       "       0.        , 0.        , 0.        , 0.        , 0.18823529,\n",
       "       0.93333333, 0.98823529, 0.98823529, 0.98823529, 0.92941176,\n",
       "       0.        , 0.        , 0.        , 0.        , 0.        ,\n",
       "       0.        , 0.        , 0.        , 0.        , 0.        ,\n",
       "       0.        , 0.        , 0.        , 0.        , 0.        ,\n",
       "       0.        , 0.        , 0.        , 0.        , 0.        ,\n",
       "       0.        , 0.21176471, 0.89019608, 0.99215686, 0.98823529,\n",
       "       0.9372549 , 0.91372549, 0.98823529, 0.22352941, 0.02352941,\n",
       "       0.        , 0.        , 0.        , 0.        , 0.        ,\n",
       "       0.        , 0.        , 0.        , 0.        , 0.        ,\n",
       "       0.        , 0.        , 0.        , 0.        , 0.        ,\n",
       "       0.        , 0.        , 0.03921569, 0.23529412, 0.87843137,\n",
       "       0.98823529, 0.99215686, 0.98823529, 0.79215686, 0.32941176,\n",
       "       0.98823529, 0.99215686, 0.47843137, 0.        , 0.        ,\n",
       "       0.        , 0.        , 0.        , 0.        , 0.        ,\n",
       "       0.        , 0.        , 0.        , 0.        , 0.        ,\n",
       "       0.        , 0.        , 0.        , 0.        , 0.        ,\n",
       "       0.63921569, 0.98823529, 0.98823529, 0.98823529, 0.99215686,\n",
       "       0.98823529, 0.98823529, 0.37647059, 0.74117647, 0.99215686,\n",
       "       0.65490196, 0.        , 0.        , 0.        , 0.        ,\n",
       "       0.        , 0.        , 0.        , 0.        , 0.        ,\n",
       "       0.        , 0.        , 0.        , 0.        , 0.        ,\n",
       "       0.        , 0.        , 0.2       , 0.93333333, 0.99215686,\n",
       "       0.99215686, 0.74509804, 0.44705882, 0.99215686, 0.89411765,\n",
       "       0.18431373, 0.30980392, 1.        , 0.65882353, 0.        ,\n",
       "       0.        , 0.        , 0.        , 0.        , 0.        ,\n",
       "       0.        , 0.        , 0.        , 0.        , 0.        ,\n",
       "       0.        , 0.        , 0.        , 0.        , 0.18823529,\n",
       "       0.93333333, 0.98823529, 0.98823529, 0.70196078, 0.04705882,\n",
       "       0.29411765, 0.4745098 , 0.08235294, 0.        , 0.        ,\n",
       "       0.99215686, 0.95294118, 0.19607843, 0.        , 0.        ,\n",
       "       0.        , 0.        , 0.        , 0.        , 0.        ,\n",
       "       0.        , 0.        , 0.        , 0.        , 0.        ,\n",
       "       0.        , 0.14901961, 0.64705882, 0.99215686, 0.91372549,\n",
       "       0.81568627, 0.32941176, 0.        , 0.        , 0.        ,\n",
       "       0.        , 0.        , 0.        , 0.99215686, 0.98823529,\n",
       "       0.64705882, 0.        , 0.        , 0.        , 0.        ,\n",
       "       0.        , 0.        , 0.        , 0.        , 0.        ,\n",
       "       0.        , 0.        , 0.        , 0.02745098, 0.69803922,\n",
       "       0.98823529, 0.94117647, 0.27843137, 0.0745098 , 0.10980392,\n",
       "       0.        , 0.        , 0.        , 0.        , 0.        ,\n",
       "       0.        , 0.99215686, 0.98823529, 0.76470588, 0.        ,\n",
       "       0.        , 0.        , 0.        , 0.        , 0.        ,\n",
       "       0.        , 0.        , 0.        , 0.        , 0.        ,\n",
       "       0.        , 0.22352941, 0.98823529, 0.98823529, 0.24705882,\n",
       "       0.        , 0.        , 0.        , 0.        , 0.        ,\n",
       "       0.        , 0.        , 0.        , 0.        , 0.99215686,\n",
       "       0.98823529, 0.76470588, 0.        , 0.        , 0.        ,\n",
       "       0.        , 0.        , 0.        , 0.        , 0.        ,\n",
       "       0.        , 0.        , 0.        , 0.        , 0.77647059,\n",
       "       0.99215686, 0.74509804, 0.        , 0.        , 0.        ,\n",
       "       0.        , 0.        , 0.        , 0.        , 0.        ,\n",
       "       0.        , 0.        , 1.        , 0.99215686, 0.76862745,\n",
       "       0.        , 0.        , 0.        , 0.        , 0.        ,\n",
       "       0.        , 0.        , 0.        , 0.        , 0.        ,\n",
       "       0.        , 0.29803922, 0.96470588, 0.98823529, 0.43921569,\n",
       "       0.        , 0.        , 0.        , 0.        , 0.        ,\n",
       "       0.        , 0.        , 0.        , 0.        , 0.        ,\n",
       "       0.99215686, 0.98823529, 0.58039216, 0.        , 0.        ,\n",
       "       0.        , 0.        , 0.        , 0.        , 0.        ,\n",
       "       0.        , 0.        , 0.        , 0.        , 0.33333333,\n",
       "       0.98823529, 0.90196078, 0.09803922, 0.        , 0.        ,\n",
       "       0.        , 0.        , 0.        , 0.        , 0.        ,\n",
       "       0.        , 0.02745098, 0.52941176, 0.99215686, 0.72941176,\n",
       "       0.04705882, 0.        , 0.        , 0.        , 0.        ,\n",
       "       0.        , 0.        , 0.        , 0.        , 0.        ,\n",
       "       0.        , 0.        , 0.33333333, 0.98823529, 0.8745098 ,\n",
       "       0.        , 0.        , 0.        , 0.        , 0.        ,\n",
       "       0.        , 0.        , 0.        , 0.02745098, 0.51372549,\n",
       "       0.98823529, 0.88235294, 0.27843137, 0.        , 0.        ,\n",
       "       0.        , 0.        , 0.        , 0.        , 0.        ,\n",
       "       0.        , 0.        , 0.        , 0.        , 0.        ,\n",
       "       0.33333333, 0.98823529, 0.56862745, 0.        , 0.        ,\n",
       "       0.        , 0.        , 0.        , 0.        , 0.        ,\n",
       "       0.18823529, 0.64705882, 0.98823529, 0.67843137, 0.        ,\n",
       "       0.        , 0.        , 0.        , 0.        , 0.        ,\n",
       "       0.        , 0.        , 0.        , 0.        , 0.        ,\n",
       "       0.        , 0.        , 0.        , 0.3372549 , 0.99215686,\n",
       "       0.88235294, 0.        , 0.        , 0.        , 0.        ,\n",
       "       0.        , 0.        , 0.44705882, 0.93333333, 0.99215686,\n",
       "       0.63529412, 0.        , 0.        , 0.        , 0.        ,\n",
       "       0.        , 0.        , 0.        , 0.        , 0.        ,\n",
       "       0.        , 0.        , 0.        , 0.        , 0.        ,\n",
       "       0.        , 0.33333333, 0.98823529, 0.97647059, 0.57254902,\n",
       "       0.18823529, 0.11372549, 0.33333333, 0.69803922, 0.88235294,\n",
       "       0.99215686, 0.8745098 , 0.65490196, 0.21960784, 0.        ,\n",
       "       0.        , 0.        , 0.        , 0.        , 0.        ,\n",
       "       0.        , 0.        , 0.        , 0.        , 0.        ,\n",
       "       0.        , 0.        , 0.        , 0.        , 0.33333333,\n",
       "       0.98823529, 0.98823529, 0.98823529, 0.89803922, 0.84313725,\n",
       "       0.98823529, 0.98823529, 0.98823529, 0.76862745, 0.50980392,\n",
       "       0.        , 0.        , 0.        , 0.        , 0.        ,\n",
       "       0.        , 0.        , 0.        , 0.        , 0.        ,\n",
       "       0.        , 0.        , 0.        , 0.        , 0.        ,\n",
       "       0.        , 0.        , 0.10980392, 0.78039216, 0.98823529,\n",
       "       0.98823529, 0.99215686, 0.98823529, 0.98823529, 0.91372549,\n",
       "       0.56862745, 0.        , 0.        , 0.        , 0.        ,\n",
       "       0.        , 0.        , 0.        , 0.        , 0.        ,\n",
       "       0.        , 0.        , 0.        , 0.        , 0.        ,\n",
       "       0.        , 0.        , 0.        , 0.        , 0.        ,\n",
       "       0.        , 0.09803922, 0.50196078, 0.98823529, 0.99215686,\n",
       "       0.98823529, 0.55294118, 0.14509804, 0.        , 0.        ,\n",
       "       0.        , 0.        , 0.        , 0.        , 0.        ,\n",
       "       0.        , 0.        , 0.        , 0.        , 0.        ,\n",
       "       0.        , 0.        , 0.        , 0.        , 0.        ,\n",
       "       0.        , 0.        , 0.        , 0.        , 0.        ,\n",
       "       0.        , 0.        , 0.        , 0.        , 0.        ,\n",
       "       0.        , 0.        , 0.        , 0.        , 0.        ,\n",
       "       0.        , 0.        , 0.        , 0.        , 0.        ,\n",
       "       0.        , 0.        , 0.        , 0.        , 0.        ,\n",
       "       0.        , 0.        , 0.        , 0.        , 0.        ,\n",
       "       0.        , 0.        , 0.        , 0.        , 0.        ,\n",
       "       0.        , 0.        , 0.        , 0.        , 0.        ,\n",
       "       0.        , 0.        , 0.        , 0.        , 0.        ,\n",
       "       0.        , 0.        , 0.        , 0.        , 0.        ,\n",
       "       0.        , 0.        , 0.        , 0.        , 0.        ,\n",
       "       0.        , 0.        , 0.        , 0.        , 0.        ,\n",
       "       0.        , 0.        , 0.        , 0.        , 0.        ,\n",
       "       0.        , 0.        , 0.        , 0.        , 0.        ,\n",
       "       0.        , 0.        , 0.        , 0.        , 0.        ,\n",
       "       0.        , 0.        , 0.        , 0.        , 0.        ,\n",
       "       0.        , 0.        , 0.        , 0.        , 0.        ,\n",
       "       0.        , 0.        , 0.        , 0.        , 0.        ,\n",
       "       0.        , 0.        , 0.        , 0.        , 0.        ,\n",
       "       0.        , 0.        , 0.        , 0.        , 0.        ,\n",
       "       0.        , 0.        , 0.        , 0.        , 0.        ,\n",
       "       0.        , 0.        , 0.        , 0.        ])"
      ]
     },
     "execution_count": 15,
     "metadata": {},
     "output_type": "execute_result"
    }
   ],
   "source": [
    "x_train_flattened[1] #single dimensional array"
   ]
  },
  {
   "cell_type": "markdown",
   "id": "55f78db4-857b-4833-92a7-7bb7dc65de28",
   "metadata": {},
   "source": [
    "**Without Hidden layers**"
   ]
  },
  {
   "cell_type": "code",
   "execution_count": 16,
   "id": "aa559384-c944-4565-aea8-e21f13a32540",
   "metadata": {},
   "outputs": [
    {
     "name": "stdout",
     "output_type": "stream",
     "text": [
      "Epoch 1/5\n",
      "1875/1875 [==============================] - 1s 598us/step - loss: 0.4675 - accuracy: 0.87690s - loss: 0.5042 - accu\n",
      "Epoch 2/5\n",
      "1875/1875 [==============================] - 1s 612us/step - loss: 0.3031 - accuracy: 0.9150\n",
      "Epoch 3/5\n",
      "1875/1875 [==============================] - 1s 612us/step - loss: 0.2830 - accuracy: 0.9205\n",
      "Epoch 4/5\n",
      "1875/1875 [==============================] - 1s 610us/step - loss: 0.2729 - accuracy: 0.9238\n",
      "Epoch 5/5\n",
      "1875/1875 [==============================] - 1s 598us/step - loss: 0.2665 - accuracy: 0.9255\n"
     ]
    },
    {
     "data": {
      "text/plain": [
       "<keras.callbacks.History at 0x242a5d99be0>"
      ]
     },
     "execution_count": 16,
     "metadata": {},
     "output_type": "execute_result"
    }
   ],
   "source": [
    "model = keras.Sequential([\n",
    "    keras.layers.Dense(10, input_shape=(784,),activation='sigmoid')\n",
    "])\n",
    "model.compile(\n",
    "    optimizer = 'adam', \n",
    "    loss='sparse_categorical_crossentropy', \n",
    "    metrics=['accuracy']\n",
    "    \n",
    ")\n",
    "model.fit(x_train_flattened, y_train, epochs=5)"
   ]
  },
  {
   "cell_type": "code",
   "execution_count": 17,
   "id": "903afb9c-21ba-4378-8e6b-292c24501390",
   "metadata": {},
   "outputs": [
    {
     "name": "stdout",
     "output_type": "stream",
     "text": [
      "313/313 [==============================] - 0s 510us/step - loss: 0.2675 - accuracy: 0.9264\n"
     ]
    },
    {
     "data": {
      "text/plain": [
       "[0.2675328850746155, 0.9264000058174133]"
      ]
     },
     "execution_count": 17,
     "metadata": {},
     "output_type": "execute_result"
    }
   ],
   "source": [
    "model.evaluate(x_test_flattened, y_test)"
   ]
  },
  {
   "cell_type": "code",
   "execution_count": 18,
   "id": "c45d182c-5746-471e-8030-7ce55e330c18",
   "metadata": {},
   "outputs": [
    {
     "data": {
      "text/plain": [
       "array([[2.91952789e-02, 2.41208738e-07, 5.52820861e-02, ...,\n",
       "        9.99752522e-01, 8.50625336e-02, 7.22109318e-01],\n",
       "       [4.87715602e-01, 4.23565507e-03, 9.99346733e-01, ...,\n",
       "        1.00908713e-12, 2.55058885e-01, 4.71053774e-09],\n",
       "       [4.95523214e-04, 9.92133975e-01, 6.33482337e-01, ...,\n",
       "        1.44368887e-01, 4.08030689e-01, 4.59910631e-02],\n",
       "       ...,\n",
       "       [3.35896402e-06, 2.15690579e-06, 5.92201948e-04, ...,\n",
       "        1.76616997e-01, 5.11118889e-01, 7.71784425e-01],\n",
       "       [1.62363052e-04, 1.04978346e-04, 1.31249428e-04, ...,\n",
       "        2.72317120e-05, 6.60319090e-01, 1.21298312e-04],\n",
       "       [8.54796171e-03, 5.06590381e-10, 1.64773852e-01, ...,\n",
       "        3.82472187e-08, 3.47077847e-04, 1.03181799e-06]], dtype=float32)"
      ]
     },
     "execution_count": 18,
     "metadata": {},
     "output_type": "execute_result"
    }
   ],
   "source": [
    "model.predict(x_test_flattened)\n"
   ]
  },
  {
   "cell_type": "code",
   "execution_count": 19,
   "id": "62cf1c29-bf8d-4d6f-9d21-fc6b8cdcea07",
   "metadata": {},
   "outputs": [
    {
     "data": {
      "text/plain": [
       "<matplotlib.image.AxesImage at 0x242d5a3e3a0>"
      ]
     },
     "execution_count": 19,
     "metadata": {},
     "output_type": "execute_result"
    },
    {
     "data": {
      "image/png": "[encoded data removed]",
      "text/plain": [
       "<Figure size 288x288 with 1 Axes>"
      ]
     },
     "metadata": {
      "needs_background": "light"
     },
     "output_type": "display_data"
    }
   ],
   "source": [
    "plt.matshow(X_test[889])"
   ]
  },
  {
   "cell_type": "code",
   "execution_count": 20,
   "id": "684d6bae-494c-40c3-9375-66a8b657d977",
   "metadata": {},
   "outputs": [
    {
     "data": {
      "text/plain": [
       "array([3.69959052e-05, 9.99319911e-01, 2.35198379e-01, 6.77099705e-01,\n",
       "       6.81129098e-03, 8.87164772e-02, 1.45286828e-01, 1.20625734e-01,\n",
       "       6.37811601e-01, 2.38049895e-01], dtype=float32)"
      ]
     },
     "execution_count": 20,
     "metadata": {},
     "output_type": "execute_result"
    }
   ],
   "source": [
    "ypred = model.predict(x_test_flattened)\n",
    "ypred[889]"
   ]
  },
  {
   "cell_type": "code",
   "execution_count": 21,
   "id": "32c76d22-8448-4018-a183-fa3bdce4e01e",
   "metadata": {},
   "outputs": [
    {
     "data": {
      "text/plain": [
       "1"
      ]
     },
     "execution_count": 21,
     "metadata": {},
     "output_type": "execute_result"
    }
   ],
   "source": [
    "np.argmax(ypred[889]) #convert and print the integer value of index [889]"
   ]
  },
  {
   "cell_type": "markdown",
   "id": "b6b169e4-95c9-4d9a-a470-071e592f5a39",
   "metadata": {},
   "source": [
    "**Confusion Matrix - (y_test, ypred)**"
   ]
  },
  {
   "cell_type": "code",
   "execution_count": 22,
   "id": "fd74c382-440d-4fec-8c2d-7adc2efba783",
   "metadata": {},
   "outputs": [
    {
     "data": {
      "text/plain": [
       "[7, 2, 1, 0, 4]"
      ]
     },
     "execution_count": 22,
     "metadata": {},
     "output_type": "execute_result"
    }
   ],
   "source": [
    "ypred_label = [np.argmax(i) for i in ypred] #convert and print the integer values of ypred\n",
    "ypred_label[:5]"
   ]
  },
  {
   "cell_type": "code",
   "execution_count": 23,
   "id": "53d8dc50-d267-489f-a755-a64a4527d205",
   "metadata": {},
   "outputs": [
    {
     "data": {
      "text/plain": [
       "array([7, 2, 1, 0, 4], dtype=uint8)"
      ]
     },
     "execution_count": 23,
     "metadata": {},
     "output_type": "execute_result"
    }
   ],
   "source": [
    "y_test[:5]"
   ]
  },
  {
   "cell_type": "code",
   "execution_count": 24,
   "id": "91e50bfc-5ce6-4995-9512-aded8d596859",
   "metadata": {},
   "outputs": [
    {
     "data": {
      "text/plain": [
       "<tf.Tensor: shape=(10, 10), dtype=int32, numpy=\n",
       "array([[ 963,    0,    0,    2,    0,    5,    7,    2,    1,    0],\n",
       "       [   0, 1107,    3,    2,    0,    1,    4,    2,   16,    0],\n",
       "       [   8,    9,  913,   16,   10,    5,   13,   10,   44,    4],\n",
       "       [   3,    0,   15,  924,    1,   21,    2,   10,   25,    9],\n",
       "       [   1,    1,    2,    1,  920,    0,   12,    4,   10,   31],\n",
       "       [  11,    2,    2,   30,   11,  772,   16,    6,   35,    7],\n",
       "       [  10,    3,    4,    1,    7,   13,  915,    2,    3,    0],\n",
       "       [   1,    5,   22,    7,   10,    0,    0,  945,    3,   35],\n",
       "       [   7,    6,    5,   18,    9,   19,    9,   10,  882,    9],\n",
       "       [  11,    6,    1,    9,   30,    7,    0,   15,    7,  923]])>"
      ]
     },
     "execution_count": 24,
     "metadata": {},
     "output_type": "execute_result"
    }
   ],
   "source": [
    "cm = tf.math.confusion_matrix(labels=y_test, predictions=ypred_label)\n",
    "cm"
   ]
  },
  {
   "cell_type": "code",
   "execution_count": 25,
   "id": "70386980-7dcb-49d3-b3a5-4736b116063a",
   "metadata": {},
   "outputs": [
    {
     "data": {
      "text/plain": [
       "Text(0.5, 1.0, 'Confusion Matrix')"
      ]
     },
     "execution_count": 25,
     "metadata": {},
     "output_type": "execute_result"
    },
    {
     "data": {
      "image/png": "[encoded data removed]",
      "text/plain": [
       "<Figure size 720x504 with 2 Axes>"
      ]
     },
     "metadata": {
      "needs_background": "light"
     },
     "output_type": "display_data"
    }
   ],
   "source": [
    "plt.figure(figsize = (10,7))\n",
    "sns.heatmap(cm, annot=True, fmt='d')\n",
    "plt.xlabel(\"Predicted\")\n",
    "plt.ylabel(\"Actual\")\n",
    "plt.title(\"Confusion Matrix\")"
   ]
  },
  {
   "cell_type": "markdown",
   "id": "de74a181-f45a-4e7f-baf4-2052bf721f5d",
   "metadata": {},
   "source": [
    "**With Hidden Layer**"
   ]
  },
  {
   "cell_type": "code",
   "execution_count": 26,
   "id": "939482e6-ff5b-494e-8a6d-db1a71b57ca3",
   "metadata": {},
   "outputs": [
    {
     "name": "stdout",
     "output_type": "stream",
     "text": [
      "Epoch 1/5\n",
      "1875/1875 [==============================] - 2s 796us/step - loss: 0.2763 - accuracy: 0.9206\n",
      "Epoch 2/5\n",
      "1875/1875 [==============================] - 1s 793us/step - loss: 0.1279 - accuracy: 0.9624\n",
      "Epoch 3/5\n",
      "1875/1875 [==============================] - 1s 796us/step - loss: 0.0886 - accuracy: 0.9733\n",
      "Epoch 4/5\n",
      "1875/1875 [==============================] - 1s 767us/step - loss: 0.0674 - accuracy: 0.9793\n",
      "Epoch 5/5\n",
      "1875/1875 [==============================] - 1s 780us/step - loss: 0.0525 - accuracy: 0.9837\n"
     ]
    },
    {
     "data": {
      "text/plain": [
       "<keras.callbacks.History at 0x242d5dad280>"
      ]
     },
     "execution_count": 26,
     "metadata": {},
     "output_type": "execute_result"
    }
   ],
   "source": [
    "model1 = keras.Sequential([\n",
    "    keras.layers.Dense(100, input_shape=(784,),activation='relu'),\n",
    "    keras.layers.Dense(10,activation='sigmoid')\n",
    "])\n",
    "model1.compile(\n",
    "    optimizer = 'adam', \n",
    "    loss='sparse_categorical_crossentropy', \n",
    "    metrics=['accuracy']\n",
    "    \n",
    ")\n",
    "model1.fit(x_train_flattened, y_train, epochs=5)"
   ]
  },
  {
   "cell_type": "code",
   "execution_count": 27,
   "id": "7d83cb43-f2a2-4662-918c-31324de41184",
   "metadata": {},
   "outputs": [
    {
     "name": "stdout",
     "output_type": "stream",
     "text": [
      "313/313 [==============================] - 0s 577us/step - loss: 0.0755 - accuracy: 0.9747\n"
     ]
    },
    {
     "data": {
      "text/plain": [
       "[0.07545410096645355, 0.9746999740600586]"
      ]
     },
     "execution_count": 27,
     "metadata": {},
     "output_type": "execute_result"
    }
   ],
   "source": [
    "model1.evaluate(x_test_flattened, y_test)"
   ]
  },
  {
   "cell_type": "code",
   "execution_count": 38,
   "id": "6850ce8d-e0ff-4d14-a6af-12375bd90afc",
   "metadata": {},
   "outputs": [
    {
     "data": {
      "text/plain": [
       "array([[2.91952789e-02, 2.41208738e-07, 5.52820861e-02, ...,\n",
       "        9.99752522e-01, 8.50625336e-02, 7.22109318e-01],\n",
       "       [4.87715602e-01, 4.23565507e-03, 9.99346733e-01, ...,\n",
       "        1.00908713e-12, 2.55058885e-01, 4.71053774e-09],\n",
       "       [4.95523214e-04, 9.92133975e-01, 6.33482337e-01, ...,\n",
       "        1.44368887e-01, 4.08030689e-01, 4.59910631e-02],\n",
       "       ...,\n",
       "       [3.35896402e-06, 2.15690579e-06, 5.92201948e-04, ...,\n",
       "        1.76616997e-01, 5.11118889e-01, 7.71784425e-01],\n",
       "       [1.62363052e-04, 1.04978346e-04, 1.31249428e-04, ...,\n",
       "        2.72317120e-05, 6.60319090e-01, 1.21298312e-04],\n",
       "       [8.54796171e-03, 5.06590381e-10, 1.64773852e-01, ...,\n",
       "        3.82472187e-08, 3.47077847e-04, 1.03181799e-06]], dtype=float32)"
      ]
     },
     "execution_count": 38,
     "metadata": {},
     "output_type": "execute_result"
    }
   ],
   "source": [
    "ypred1 = model.predict(x_test_flattened)\n",
    "ypred1"
   ]
  },
  {
   "cell_type": "code",
   "execution_count": 29,
   "id": "085e0b4c-26cc-47e6-9d9e-3b2eb2086db8",
   "metadata": {},
   "outputs": [
    {
     "data": {
      "text/plain": [
       "[7, 2, 1, 0, 4]"
      ]
     },
     "execution_count": 29,
     "metadata": {},
     "output_type": "execute_result"
    }
   ],
   "source": [
    "ypred_label1 = [np.argmax(i) for i in ypred1] #convert and print the integer values of ypred\n",
    "ypred_label1[:5]"
   ]
  },
  {
   "cell_type": "markdown",
   "id": "c7b23290-aeb0-4cc9-b324-d9a3637e2b01",
   "metadata": {},
   "source": [
    "**Confusion Matrix**"
   ]
  },
  {
   "cell_type": "code",
   "execution_count": 30,
   "id": "ec2bcb5e-a703-468c-9c27-e7bae3b8b332",
   "metadata": {},
   "outputs": [
    {
     "data": {
      "text/plain": [
       "Text(0.5, 1.0, 'Confusion Matrix')"
      ]
     },
     "execution_count": 30,
     "metadata": {},
     "output_type": "execute_result"
    },
    {
     "data": {
      "image/png": "[encoded data removed]",
      "text/plain": [
       "<Figure size 720x504 with 2 Axes>"
      ]
     },
     "metadata": {
      "needs_background": "light"
     },
     "output_type": "display_data"
    }
   ],
   "source": [
    "cm = tf.math.confusion_matrix(labels=y_test, predictions=ypred_label1)\n",
    "\n",
    "plt.figure(figsize = (10,7))\n",
    "sns.heatmap(cm, annot=True, fmt='d')\n",
    "plt.xlabel(\"Predicted\")\n",
    "plt.ylabel(\"Actual\")\n",
    "plt.title(\"Confusion Matrix\")"
   ]
  },
  {
   "cell_type": "markdown",
   "id": "63178211-3b09-433b-b351-ce78147bf801",
   "metadata": {},
   "source": [
    "**Flatten() function**"
   ]
  },
  {
   "cell_type": "code",
   "execution_count": 31,
   "id": "33fc0b7e-0289-4403-b890-6d8bc315da98",
   "metadata": {},
   "outputs": [
    {
     "name": "stdout",
     "output_type": "stream",
     "text": [
      "Epoch 1/5\n",
      "1875/1875 [==============================] - 2s 779us/step - loss: 0.2745 - accuracy: 0.9220\n",
      "Epoch 2/5\n",
      "1875/1875 [==============================] - 1s 775us/step - loss: 0.1207 - accuracy: 0.9640\n",
      "Epoch 3/5\n",
      "1875/1875 [==============================] - 1s 777us/step - loss: 0.0851 - accuracy: 0.9746\n",
      "Epoch 4/5\n",
      "1875/1875 [==============================] - 1s 767us/step - loss: 0.0648 - accuracy: 0.9799\n",
      "Epoch 5/5\n",
      "1875/1875 [==============================] - 1s 771us/step - loss: 0.0504 - accuracy: 0.9845\n"
     ]
    },
    {
     "data": {
      "text/plain": [
       "<keras.callbacks.History at 0x242d6096dc0>"
      ]
     },
     "execution_count": 31,
     "metadata": {},
     "output_type": "execute_result"
    }
   ],
   "source": [
    "model2 = keras.Sequential([\n",
    "    keras.layers.Flatten(input_shape=(28,28)),\n",
    "    keras.layers.Dense(100,activation='relu'),\n",
    "    keras.layers.Dense(10,activation='sigmoid')\n",
    "])\n",
    "model2.compile(\n",
    "    optimizer = 'adam', \n",
    "    loss='sparse_categorical_crossentropy', \n",
    "    metrics=['accuracy']\n",
    "    \n",
    ")\n",
    "model2.fit(X_train, y_train, epochs=5)"
   ]
  },
  {
   "cell_type": "code",
   "execution_count": 32,
   "id": "1676a389-c72a-410e-b754-259955988394",
   "metadata": {},
   "outputs": [
    {
     "name": "stdout",
     "output_type": "stream",
     "text": [
      "313/313 [==============================] - 0s 587us/step - loss: 0.0891 - accuracy: 0.9722\n"
     ]
    },
    {
     "data": {
      "text/plain": [
       "[0.08914393931627274, 0.9721999764442444]"
      ]
     },
     "execution_count": 32,
     "metadata": {},
     "output_type": "execute_result"
    }
   ],
   "source": [
    "model2.evaluate(X_test, y_test)"
   ]
  },
  {
   "cell_type": "code",
   "execution_count": 36,
   "id": "19a53d5f-aeed-4a59-9a9e-5a3a3ae34e0f",
   "metadata": {},
   "outputs": [
    {
     "data": {
      "text/plain": [
       "array([[6.9972873e-04, 2.2768974e-04, 9.8546147e-03, ..., 9.9999374e-01,\n",
       "        2.7021450e-01, 9.8641902e-02],\n",
       "       [1.3038188e-02, 9.8253226e-01, 9.9999970e-01, ..., 3.7415351e-08,\n",
       "        4.9956173e-01, 5.5377523e-06],\n",
       "       [1.9528866e-03, 9.9779391e-01, 2.2470897e-01, ..., 2.8536606e-01,\n",
       "        4.1374299e-01, 6.3839555e-04],\n",
       "       ...,\n",
       "       [7.7856447e-07, 2.5933866e-06, 8.0956052e-05, ..., 9.0088403e-01,\n",
       "        8.6737740e-01, 6.4415044e-01],\n",
       "       [7.9703331e-03, 6.2077313e-05, 1.1167514e-04, ..., 1.0260940e-03,\n",
       "        9.3479145e-01, 5.2921361e-05],\n",
       "       [1.0814548e-02, 1.6381136e-08, 5.7498872e-02, ..., 2.7658477e-06,\n",
       "        3.0305147e-02, 1.0077536e-02]], dtype=float32)"
      ]
     },
     "execution_count": 36,
     "metadata": {},
     "output_type": "execute_result"
    }
   ],
   "source": [
    "ypred2 = model2.predict(X_test)\n",
    "ypred2"
   ]
  }
 ],
 "metadata": {
  "kernelspec": {
   "display_name": "Python 3",
   "language": "python",
   "name": "python3"
  },
  "language_info": {
   "codemirror_mode": {
    "name": "ipython",
    "version": 3
   },
   "file_extension": ".py",
   "mimetype": "text/x-python",
   "name": "python",
   "nbconvert_exporter": "python",
   "pygments_lexer": "ipython3",
   "version": "3.8.8"
  }
 },
 "nbformat": 4,
 "nbformat_minor": 5
}
