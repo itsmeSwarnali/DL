{
 "cells": [
  {
   "cell_type": "code",
   "execution_count": 2,
   "id": "64549efa-f2d8-4273-ae3a-df4fb1f4305d",
   "metadata": {},
   "outputs": [],
   "source": [
    "import math"
   ]
  },
  {
   "cell_type": "markdown",
   "id": "d8b22b59-3347-421d-9cd3-baee9093e574",
   "metadata": {},
   "source": [
    "**Sigmoid**"
   ]
  },
  {
   "cell_type": "code",
   "execution_count": 3,
   "id": "0951f3d2-6b3a-4b99-9620-cc9fa56cdbb9",
   "metadata": {},
   "outputs": [],
   "source": [
    "def sigmoid(x):\n",
    "    return 1/(1+math.exp(-x))"
   ]
  },
  {
   "cell_type": "code",
   "execution_count": 6,
   "id": "091b1f0a-3ac4-4978-9afa-f130a177ce9d",
   "metadata": {},
   "outputs": [
    {
     "data": {
      "text/plain": [
       "1.0"
      ]
     },
     "execution_count": 6,
     "metadata": {},
     "output_type": "execute_result"
    }
   ],
   "source": [
    "sigmoid(677) #value between 0 t0 1"
   ]
  },
  {
   "cell_type": "code",
   "execution_count": 7,
   "id": "d0061210-921e-4ddf-b0cf-a372c9506420",
   "metadata": {},
   "outputs": [
    {
     "data": {
      "text/plain": [
       "9.608060996252968e-295"
      ]
     },
     "execution_count": 7,
     "metadata": {},
     "output_type": "execute_result"
    }
   ],
   "source": [
    "sigmoid(-677) #value between 0 t0 1"
   ]
  },
  {
   "cell_type": "markdown",
   "id": "31f907e6-95f3-4c11-b3a3-1115b760d9fc",
   "metadata": {},
   "source": [
    "**tanh**"
   ]
  },
  {
   "cell_type": "code",
   "execution_count": 8,
   "id": "f4a41e6b-9e5e-417f-8b13-9eda5af0d5eb",
   "metadata": {},
   "outputs": [],
   "source": [
    "def tanh(x):\n",
    "    return (math.exp(x) - math.exp(-x))/(math.exp(x)+ math.exp(-x))"
   ]
  },
  {
   "cell_type": "code",
   "execution_count": 10,
   "id": "e9eb9e8f-cef0-45a5-9785-7601a7eee3b5",
   "metadata": {},
   "outputs": [
    {
     "data": {
      "text/plain": [
       "-0.964027580075817"
      ]
     },
     "execution_count": 10,
     "metadata": {},
     "output_type": "execute_result"
    }
   ],
   "source": [
    "tanh(-2) #range(-1 to +1)"
   ]
  },
  {
   "cell_type": "markdown",
   "id": "a2b53e15-3ee4-4bd8-b31a-c01c9f80fc67",
   "metadata": {},
   "source": [
    "**ReLU**"
   ]
  },
  {
   "cell_type": "code",
   "execution_count": 12,
   "id": "8e639eda-e532-41a0-ad32-85ca4d30857a",
   "metadata": {},
   "outputs": [],
   "source": [
    "def relu(x):\n",
    "    return max(0,x)"
   ]
  },
  {
   "cell_type": "code",
   "execution_count": 15,
   "id": "976c687c-6c97-44e8-9ac7-4acd2376f09f",
   "metadata": {},
   "outputs": [
    {
     "data": {
      "text/plain": [
       "0"
      ]
     },
     "execution_count": 15,
     "metadata": {},
     "output_type": "execute_result"
    }
   ],
   "source": [
    "relu(-77)"
   ]
  },
  {
   "cell_type": "code",
   "execution_count": 17,
   "id": "1b36f1bd-d5ac-4dcd-8583-161a14d5a2fc",
   "metadata": {},
   "outputs": [
    {
     "data": {
      "text/plain": [
       "76"
      ]
     },
     "execution_count": 17,
     "metadata": {},
     "output_type": "execute_result"
    }
   ],
   "source": [
    "relu(76)"
   ]
  },
  {
   "cell_type": "markdown",
   "id": "3edcf02a-2633-47e0-b540-b0d3ea66a307",
   "metadata": {},
   "source": [
    "**Leaky_relu**"
   ]
  },
  {
   "cell_type": "code",
   "execution_count": 20,
   "id": "5cc98009-af0a-4a5f-a1b3-5c1021c6ebfb",
   "metadata": {},
   "outputs": [],
   "source": [
    "def leaky_relu(x):\n",
    "    return max(0.1*x,x)"
   ]
  },
  {
   "cell_type": "code",
   "execution_count": 21,
   "id": "a3e50b6e-0947-4f52-9d0e-b7080ca7eb03",
   "metadata": {},
   "outputs": [
    {
     "data": {
      "text/plain": [
       "34"
      ]
     },
     "execution_count": 21,
     "metadata": {},
     "output_type": "execute_result"
    }
   ],
   "source": [
    "leaky_relu(34)"
   ]
  },
  {
   "cell_type": "code",
   "execution_count": 22,
   "id": "e181293a-8cfb-44eb-83a7-8e5dfd7d85a1",
   "metadata": {},
   "outputs": [
    {
     "data": {
      "text/plain": [
       "-2.2"
      ]
     },
     "execution_count": 22,
     "metadata": {},
     "output_type": "execute_result"
    }
   ],
   "source": [
    "leaky_relu(-22)"
   ]
  },
  {
   "cell_type": "code",
   "execution_count": 23,
   "id": "c71de60b-0527-48b9-87e0-d933634a1d29",
   "metadata": {},
   "outputs": [
    {
     "data": {
      "text/plain": [
       "-10.0"
      ]
     },
     "execution_count": 23,
     "metadata": {},
     "output_type": "execute_result"
    }
   ],
   "source": [
    "leaky_relu(-100)"
   ]
  }
 ],
 "metadata": {
  "kernelspec": {
   "display_name": "Python 3",
   "language": "python",
   "name": "python3"
  },
  "language_info": {
   "codemirror_mode": {
    "name": "ipython",
    "version": 3
   },
   "file_extension": ".py",
   "mimetype": "text/x-python",
   "name": "python",
   "nbconvert_exporter": "python",
   "pygments_lexer": "ipython3",
   "version": "3.8.8"
  }
 },
 "nbformat": 4,
 "nbformat_minor": 5
}
